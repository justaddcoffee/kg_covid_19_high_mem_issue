{
 "cells": [
  {
   "cell_type": "markdown",
   "metadata": {},
   "source": [
    "# High mem issue\n",
    "This nb is to reproduce an issue where generating negative edges consumes a large\n",
    "amount of memory and requires a long time\n",
    "\n",
    "Graph used in the NB is available here:\n",
    "http://doi.org/10.5281/zenodo.4011267"
   ]
  },
  {
   "cell_type": "code",
   "execution_count": 7,
   "metadata": {},
   "outputs": [
    {
     "data": {
      "text/plain": [
       "0"
      ]
     },
     "execution_count": 7,
     "metadata": {},
     "output_type": "execute_result"
    }
   ],
   "source": [
    "# get graph and embeddings\n",
    "graph_data_dir = \"graph\"\n",
    "import urllib\n",
    "import os\n",
    "os.makedirs(graph_data_dir, exist_ok=True)\n",
    "if not os.path.exists(graph_data_dir + \"/kg-covid-19-skipgram-aug-2020.tar.gz\"):\n",
    "    with urllib.request.urlopen(\"https://zenodo.org/record/4011267/files/kg-covid-19-skipgram-aug-2020.tar.gz\") as response, \\\n",
    "        open(graph_data_dir + \"/kg-covid-19-skipgram-aug-2020.tar.gz\", 'wb') as out_file:\n",
    "            data = response.read()  # a `bytes` object\n",
    "            out_file.write(data)\n",
    "os.system(\"tar -xvzf \" + graph_data_dir + \"/kg-covid-19-skipgram-aug-2020.tar.gz -C \" + graph_data_dir)"
   ]
  },
  {
   "cell_type": "markdown",
   "metadata": {
    "pycharm": {
     "name": "#%% md\n"
    }
   },
   "source": [
    "## Loading the graph"
   ]
  },
  {
   "cell_type": "code",
   "execution_count": null,
   "metadata": {
    "pycharm": {
     "name": "#%%\n"
    }
   },
   "outputs": [],
   "source": [
    "from ensmallen_graph import EnsmallenGraph\n",
    "\n",
    "graph = EnsmallenGraph.from_csv(\n",
    "    edge_path=os.path.join(graph_data_dir, \"merged-kg_edges.tsv\"),\n",
    "    sources_column=\"subject\",\n",
    "    destinations_column=\"object\",\n",
    "    directed=False,\n",
    "    edge_types_column=\"edge_label\",\n",
    "    default_edge_type=\"biolink:association\",\n",
    "    node_path=os.path.join(graph_data_dir, \"merged-kg_nodes.tsv\"),\n",
    "    nodes_column=\"id\",\n",
    "    node_types_column=\"category\",\n",
    "    default_node_type=\"biolink:NamedThing\",\n",
    "    ignore_duplicated_edges=True,\n",
    "    ignore_duplicated_nodes=True,\n",
    "    force_conversion_to_undirected=True\n",
    ")"
   ]
  },
  {
   "cell_type": "code",
   "execution_count": null,
   "metadata": {},
   "outputs": [],
   "source": [
    "graph.report()"
   ]
  },
  {
   "cell_type": "code",
   "execution_count": null,
   "metadata": {
    "pycharm": {
     "name": "#%%\n"
    }
   },
   "outputs": [],
   "source": [
    "# memory here\n",
    "seed = 42\n",
    "neg_training, neg_validation = graph.sample_negatives(\n",
    "   seed=seed,\n",
    "   negatives_number=graph.get_edges_number(),\n",
    "   allow_selfloops=False\n",
    ").random_holdout(seed=seed, train_percentage=train_percentage)"
   ]
  }
 ],
 "metadata": {
  "kernelspec": {
   "display_name": "Python 3",
   "language": "python",
   "name": "python3"
  },
  "language_info": {
   "codemirror_mode": {
    "name": "ipython",
    "version": 3
   },
   "file_extension": ".py",
   "mimetype": "text/x-python",
   "name": "python",
   "nbconvert_exporter": "python",
   "pygments_lexer": "ipython3",
   "version": "3.7.3"
  }
 },
 "nbformat": 4,
 "nbformat_minor": 4
}